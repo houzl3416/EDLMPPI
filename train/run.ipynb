{
 "cells": [
  {
   "cell_type": "code",
   "execution_count": 1,
   "metadata": {
    "executionInfo": {
     "elapsed": 2561,
     "status": "ok",
     "timestamp": 1631770077485,
     "user": {
      "displayName": "zl hou",
      "photoUrl": "https://lh3.googleusercontent.com/a/default-user=s64",
      "userId": "10683651824062244280"
     },
     "user_tz": -480
    },
    "id": "MpcVyyCqRFjU"
   },
   "outputs": [
    {
     "name": "stderr",
     "output_type": "stream",
     "text": [
      "2021-11-15 21:29:47.710626: I tensorflow/stream_executor/platform/default/dso_loader.cc:49] Successfully opened dynamic library libcudart.so.10.1\n"
     ]
    }
   ],
   "source": [
    "import sys\n",
    "#sys.path.append('/content/drive/MyDrive/xl')\n",
    "import logging\n",
    "import math\n",
    "import numpy as np\n",
    "#import tensorflow as tf\n",
    "#from net import createModel, defineExperimentPaths\n",
    "from model import createmodel1,createmodel2,createmodel3,createmodel4,createmodel5,createmodel6\n",
    "from utils import evaluate, callbacks, data_split, label_sum, label_one_hot\n",
    "from sklearn.model_selection import StratifiedShuffleSplit\n",
    "from keras.callbacks import (EarlyStopping, LearningRateScheduler)"
   ]
  },
  {
   "cell_type": "code",
   "execution_count": 2,
   "metadata": {
    "executionInfo": {
     "elapsed": 526,
     "status": "ok",
     "timestamp": 1631770079215,
     "user": {
      "displayName": "zl hou",
      "photoUrl": "https://lh3.googleusercontent.com/a/default-user=s64",
      "userId": "10683651824062244280"
     },
     "user_tz": -480
    },
    "id": "pDVndmBYoQdk"
   },
   "outputs": [],
   "source": [
    "import keras\n",
    "from keras.backend import sigmoid\n",
    "from keras.layers import (LSTM, GRU, Activation, AveragePooling1D, Convolution1D, Dense, Dropout,MaxPooling1D,Conv1D,concatenate,\n",
    "                          Flatten, Input, add)\n",
    "                          \n",
    "from keras.layers import BatchNormalization\n",
    "from keras.layers.wrappers import Bidirectional\n",
    "from keras.models import Model\n",
    "from capsule import Capsule\n",
    "import os"
   ]
  },
  {
   "cell_type": "code",
   "execution_count": 7,
   "metadata": {
    "executionInfo": {
     "elapsed": 343,
     "status": "ok",
     "timestamp": 1631770082479,
     "user": {
      "displayName": "zl hou",
      "photoUrl": "https://lh3.googleusercontent.com/a/default-user=s64",
      "userId": "10683651824062244280"
     },
     "user_tz": -480
    },
    "id": "vAA7Y9FORd0k"
   },
   "outputs": [],
   "source": [
    "kmer = 25\n",
    "os.environ[\"CUDA_VISIBLE_DEVICES\"]=\"1\""
   ]
  },
  {
   "cell_type": "code",
   "execution_count": 8,
   "metadata": {
    "executionInfo": {
     "elapsed": 50898,
     "status": "ok",
     "timestamp": 1631770134527,
     "user": {
      "displayName": "zl hou",
      "photoUrl": "https://lh3.googleusercontent.com/a/default-user=s64",
      "userId": "10683651824062244280"
     },
     "user_tz": -480
    },
    "id": "cphp-OcyRNKs"
   },
   "outputs": [],
   "source": [
    "vec_xl_1 = np.load('/home/houzilong/Main/EDLMPPI/xl_model/vec_843.npy').reshape(-1,1,1024)\n",
    "vec_xl_2 = np.load('./xl_model/vec_448.npy').reshape(-1,1,1024)\n",
    "vec_xl_3 = np.load('./xl_model/vec_72.npy').reshape(-1,1,1024)\n",
    "vec_xl_4 = np.load('./xl_model/vec_164.npy').reshape(-1,1,1024)\n",
    "vec_xl_5 = np.load('./xl_model/vec_186.npy').reshape(-1,1,1024)\n",
    "vec_bio_1 = np.load('./bio_features/wind_' + str(kmer) +'/843.npy')\n",
    "vec_bio_2 = np.load('./bio_features/wind_' + str(kmer) +'/448.npy')\n",
    "vec_bio_3 = np.load('./bio_features/wind_' + str(kmer) +'/72.npy')\n",
    "vec_bio_4 = np.load('./bio_features/wind_' + str(kmer) +'/164.npy')\n",
    "vec_bio_5 = np.load('./bio_features/wind_' + str(kmer) +'/186.npy')\n",
    "label1 = np.array(label_one_hot(np.load('./xl_model/label_843.npy')))\n",
    "label2 = np.array(label_one_hot(np.load('./xl_model/label_448.npy')))\n",
    "label3 = np.array(label_one_hot(np.load('./xl_model/label_72.npy')))\n",
    "label4 = np.array(label_one_hot(np.load('./xl_model/label_164.npy')))\n",
    "label5 = np.array(label_one_hot(np.load('./xl_model/label_186.npy')))\n",
    "\n",
    "vec_xl_1 = np.concatenate([vec_xl_1,vec_xl_5], axis=0)\n",
    "vec_bio_1 = np.concatenate([vec_bio_1,vec_bio_5],axis=0)\n",
    "label1 = np.concatenate([label1,label5],axis=0)"
   ]
  },
  {
   "cell_type": "code",
   "execution_count": 5,
   "metadata": {
    "colab": {
     "base_uri": "https://localhost:8080/"
    },
    "executionInfo": {
     "elapsed": 384,
     "status": "ok",
     "timestamp": 1631770141511,
     "user": {
      "displayName": "zl hou",
      "photoUrl": "https://lh3.googleusercontent.com/a/default-user=s64",
      "userId": "10683651824062244280"
     },
     "user_tz": -480
    },
    "id": "yU7T8xzRjC2B",
    "outputId": "bef5499f-c736-4ac5-8493-42142e371b41"
   },
   "outputs": [
    {
     "name": "stdout",
     "output_type": "stream",
     "text": [
      "(260631, 1, 1024)\n"
     ]
    }
   ],
   "source": [
    "print(vec_xl_1.shape)"
   ]
  },
  {
   "cell_type": "code",
   "execution_count": 6,
   "metadata": {
    "executionInfo": {
     "elapsed": 2,
     "status": "ok",
     "timestamp": 1631770144449,
     "user": {
      "displayName": "zl hou",
      "photoUrl": "https://lh3.googleusercontent.com/a/default-user=s64",
      "userId": "10683651824062244280"
     },
     "user_tz": -480
    },
    "id": "ndrVQI69b5Ul"
   },
   "outputs": [],
   "source": [
    "def step_decay(epoch):\n",
    "    initial_lrate = 0.0005\n",
    "    drop = 0.5\n",
    "    epochs_drop = 7.0\n",
    "    lrate = initial_lrate * \\\n",
    "        math.pow(drop, math.floor((1 + epoch) / epochs_drop))\n",
    "    print(lrate)\n",
    "    return lrate\n",
    "\n",
    "\n",
    "callbacks = [EarlyStopping(monitor='val_loss', patience=6),LearningRateScheduler(step_decay)]"
   ]
  },
  {
   "cell_type": "markdown",
   "metadata": {
    "id": "xXQBJol3Amkn"
   },
   "source": [
    "# emsemble\n",
    "\n",
    "---\n",
    "\n"
   ]
  },
  {
   "cell_type": "code",
   "execution_count": null,
   "metadata": {
    "colab": {
     "background_save": true,
     "base_uri": "https://localhost:8080/"
    },
    "id": "shewGxFXSTp1",
    "outputId": "0cd35fba-e5a9-4b1d-96ce-eedfd17cd53e"
   },
   "outputs": [],
   "source": [
    "positive_list_xl, positive_list_bio, sub_list_xl, sub_list_bio = data_split(vec_xl_1, vec_bio_1, 6)\n",
    "batchSize = 1024\n",
    "maxEpochs = 30\n",
    "pred_result1 = [[0,0]]*len(label2)\n",
    "pred_result2 = [[0,0]]*len(label3)\n",
    "pred_result3 = [[0,0]]*len(label4)\n",
    "pred_result4 = [[0,0]]*len(label5)\n",
    "print(len(sub_list_xl))\n",
    "for i in range(len(sub_list_xl)):\n",
    "    train_xl = np.array(np.concatenate((sub_list_xl[i], positive_list_xl),axis=0))\n",
    "    train_bio = np.array(np.concatenate((sub_list_bio[i], positive_list_bio),axis=0))\n",
    "    label = np.concatenate((np.zeros(len(sub_list_xl[i]),dtype=int),np.ones(len(positive_list_xl),dtype=int)))\n",
    "    label = [str(i) for i in label]\n",
    "    train_label = np.array(label_one_hot(label))\n",
    "\n",
    "    split = StratifiedShuffleSplit(n_splits=1, test_size=0.2, random_state=2021)\n",
    "    for train_index, val_index in split.split(train_xl, train_label):\n",
    "        train_X_xl = train_xl[train_index]\n",
    "        train_X_bio = train_bio[train_index]\n",
    "        val_X_xl = train_xl[val_index]\n",
    "        val_X_bio = train_bio[val_index]\n",
    "        train_y = train_label[train_index]\n",
    "        val_y = train_label[val_index]\n",
    "\n",
    "        model = createmodel3(kmer)\n",
    "\n",
    "        model.fit([train_X_xl,train_X_bio], train_y,\n",
    "              epochs=maxEpochs,\n",
    "              batch_size=batchSize,\n",
    "              callbacks=callbacks,\n",
    "              verbose=1,\n",
    "              validation_data=([val_X_xl,val_X_bio],val_y),\n",
    "              shuffle=True)\n",
    "        model.save('./predicted_model/'+str(i)+'.h5')\n",
    "  \n",
    "    pred_result1 = label_sum(pred_result1, model.predict([vec_xl_2,vec_bio_2]))\n",
    "    pred_result2 = label_sum(pred_result2, model.predict([vec_xl_3,vec_bio_3]))\n",
    "    pred_result3 = label_sum(pred_result3, model.predict([vec_xl_4,vec_bio_4]))\n",
    "    pred_result4 = label_sum(pred_result4, model.predict([vec_xl_5,vec_bio_5]))\n",
    "    print(\"****************\"+str((i+1))+\"*****************\")"
   ]
  },
  {
   "cell_type": "code",
   "execution_count": null,
   "metadata": {
    "colab": {
     "base_uri": "https://localhost:8080/"
    },
    "executionInfo": {
     "elapsed": 539,
     "status": "ok",
     "timestamp": 1627117320103,
     "user": {
      "displayName": "zl hou",
      "photoUrl": "",
      "userId": "10683651824062244280"
     },
     "user_tz": -480
    },
    "id": "QX6CAy6XabZq",
    "outputId": "8514e799-74ef-4aa0-931d-f4b385b9bc98"
   },
   "outputs": [],
   "source": [
    "print(\"%s\\t%s\\t%s\\t%s\\t%s\\t%s\\t%s\\t%s\\t%s\"%('Index','Sens','Spec','Pre','ACC','F1','MCC','AUROC','AUPRC'))\n",
    "evaluate(label2, pred_result1)\n",
    "evaluate(label3, pred_result2)\n",
    "evaluate(label4, pred_result3)\n",
    "evaluate(label5, pred_result4)"
   ]
  },
  {
   "cell_type": "code",
   "execution_count": null,
   "metadata": {
    "id": "7MpK2VQdv2sY"
   },
   "outputs": [],
   "source": []
  }
 ],
 "metadata": {
  "accelerator": "GPU",
  "colab": {
   "authorship_tag": "ABX9TyORJvlMeOL7tq3i02ucVPOo",
   "collapsed_sections": [],
   "machine_shape": "hm",
   "mount_file_id": "1vywpOagkgwE79hWNnACltVwxQgJW23u3",
   "name": "Untitled0.ipynb",
   "provenance": []
  },
  "kernelspec": {
   "display_name": "Python 3 (ipykernel)",
   "language": "python",
   "name": "python3"
  },
  "language_info": {
   "codemirror_mode": {
    "name": "ipython",
    "version": 3
   },
   "file_extension": ".py",
   "mimetype": "text/x-python",
   "name": "python",
   "nbconvert_exporter": "python",
   "pygments_lexer": "ipython3",
   "version": "3.8.12"
  }
 },
 "nbformat": 4,
 "nbformat_minor": 1
}
